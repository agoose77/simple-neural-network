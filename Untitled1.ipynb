{
 "cells": [
  {
   "cell_type": "code",
   "execution_count": 59,
   "metadata": {},
   "outputs": [
    {
     "name": "stdout",
     "output_type": "stream",
     "text": [
      "w_2=array([[-0.5910955 ,  0.75623487, -0.94522481,  0.34093502]])\n",
      "w_1=array([[-0.16595599, -0.70648822, -0.20646505],\n",
      "       [ 0.44064899, -0.81532281,  0.07763347],\n",
      "       [-0.99977125, -0.62747958, -0.16161097],\n",
      "       [-0.39533485, -0.30887855,  0.370439  ]])\n",
      "\n",
      "a1=array([[0.44856632, 0.28639589, 0.40795614, 0.25371248],\n",
      "       [0.51939863, 0.32350963, 0.62674606, 0.42628115],\n",
      "       [0.45968497, 0.31236398, 0.23841622, 0.14321233],\n",
      "       [0.59156505, 0.51538526, 0.49377636, 0.41732254]])\n",
      "a2=array([[0.47372957, 0.48895696, 0.54384086, 0.54470837]])\n",
      "\n",
      "a1_error  = array([[ 0.0698116 , -0.07548197, -0.06689016,  0.07985009],\n",
      "       [-0.08931546,  0.09657001,  0.08557784, -0.10215849],\n",
      "       [ 0.11163621, -0.12070373, -0.10696451,  0.12768882],\n",
      "       [-0.04026629,  0.04353687,  0.03858124, -0.04605634]])\n",
      "\n",
      "a1_errors0= array([ 0.05186606, -0.05607882, -0.0496956 ,  0.05932409])\n",
      "\n",
      "a1_errors1= array([ 0.00728956, -0.0093261 ,  0.01165678, -0.00420451])\n",
      "a1_nonlin = array([[0.24735458, 0.20437328, 0.24152793, 0.18934246],\n",
      "       [0.24962369, 0.21885115, 0.23393544, 0.24456553],\n",
      "       [0.2483747 , 0.21479272, 0.18157393, 0.12270256],\n",
      "       [0.24161584, 0.24976329, 0.24996127, 0.24316444]])\n",
      "a1_delta  = array([[ 0.01726822, -0.0154265 , -0.01615584,  0.01511901],\n",
      "       [-0.02229526,  0.02113446,  0.02001969, -0.02498445],\n",
      "       [ 0.02772761, -0.02592628, -0.01942197,  0.01566774],\n",
      "       [-0.00972897,  0.01087391,  0.00964382, -0.01119926]])\n",
      "\n",
      "d_w_2=array([[-0.00451385, -0.00669325, -0.00676932, -0.00455133]])\n",
      "d_w_1=array([[-0.00103683, -0.00030749,  0.00080489],\n",
      "       [-0.00496476, -0.00384999, -0.00612555],\n",
      "       [-0.00375422, -0.01025854, -0.0019529 ],\n",
      "       [-0.00155545, -0.00032535, -0.00041051]])\n",
      "\n"
     ]
    }
   ],
   "source": [
    "import numpy as np\n",
    "from scipy.special import expit\n",
    "\n",
    "def nonlin(x,deriv=False):\n",
    "\tif(deriv==True):\n",
    "\t    return x*(1-x)\n",
    "\n",
    "\treturn expit(x)\n",
    "    \n",
    "X = np.array([[0,0,1],\n",
    "            [0,1,1],\n",
    "            [1,0,1],\n",
    "            [1,1,1]])\n",
    "                \n",
    "y = np.array([[0],\n",
    "\t\t\t[1],\n",
    "\t\t\t[1],\n",
    "\t\t\t[0]])\n",
    "\n",
    "np.random.seed(1)\n",
    "\n",
    "# randomly initialize our weights with mean 0\n",
    "syn0 = 2*np.random.random((3,4)) - 1\n",
    "syn1 = 2*np.random.random((4,1)) - 1\n",
    "print(f\"w_2={syn1.T!r}\")\n",
    "print(f\"w_1={syn0.T!r}\")\n",
    "\n",
    "import builtins\n",
    "print = builtins.print\n",
    "\n",
    "for j in range(1):\n",
    "    # Feed forward through layers 0, 1, and 2\n",
    "    l0 = X\n",
    "    l1 = nonlin(np.dot(l0,syn0))\n",
    "    l2 = nonlin(np.dot(l1,syn1))\n",
    "\n",
    "    print(f\"\\na1={l1.T!r}\")\n",
    "    print(f\"a2={l2.T!r}\")\n",
    "\n",
    "    # how much did we miss the target value?\n",
    "    l2_error = y - l2\n",
    "\n",
    "    # in what direction is the target value?\n",
    "    # were we really sure? if so, don't change too much.\n",
    "    l2_delta = l2_error*nonlin(l2,deriv=True)\n",
    "    # how much did each l1 value contribute to the l2 error (according to the weights)?\n",
    "    l1_error = l2_delta.dot(syn1.T)\n",
    "\n",
    "    # in what direction is the target l1?\n",
    "    # were we really sure? if so, don't change too much.\n",
    "    l1_delta = l1_error * nonlin(l1,deriv=True)\n",
    "    print(f\"\\na1_error  = {l1_error.T!r}\")\n",
    "    print(f\"\\na1_errors0= {l1_error.T.sum(axis=0)!r}\")\n",
    "    print(f\"\\na1_errors1= {l1_error.T.sum(axis=1)!r}\")\n",
    "    print(f\"a1_nonlin = {nonlin(l1,deriv=True).T!r}\")\n",
    "    print(f\"a1_delta  = {l1_delta.T!r}\")\n",
    "\n",
    "    e1 = l1.T.dot(l2_delta)\n",
    "    e0 = l0.T.dot(l1_delta)\n",
    "    syn1 += e1\n",
    "    syn0 += e0\n",
    "    print(f\"\\nd_w_2={e1.T!r}\", )\n",
    "    print(f\"d_w_1={e0.T!r}\\n\")\n"
   ]
  },
  {
   "cell_type": "code",
   "execution_count": 58,
   "metadata": {},
   "outputs": [
    {
     "data": {
      "text/plain": [
       "array([0.51939863, 0.32350963, 0.62674606, 0.42628115])"
      ]
     },
     "execution_count": 58,
     "metadata": {},
     "output_type": "execute_result"
    }
   ],
   "source": [
    "l1.T[1]"
   ]
  },
  {
   "cell_type": "code",
   "execution_count": 46,
   "metadata": {},
   "outputs": [
    {
     "data": {
      "text/plain": [
       "array([[-0.11810546],\n",
       "       [ 0.12769844],\n",
       "       [ 0.11316304],\n",
       "       [-0.13508831]])"
      ]
     },
     "execution_count": 46,
     "metadata": {},
     "output_type": "execute_result"
    }
   ],
   "source": [
    "l2_delta"
   ]
  },
  {
   "cell_type": "code",
   "execution_count": 48,
   "metadata": {},
   "outputs": [
    {
     "data": {
      "text/plain": [
       "array([-0.00669325])"
      ]
     },
     "execution_count": 48,
     "metadata": {},
     "output_type": "execute_result"
    }
   ],
   "source": [
    "l1.T[1] @ l2_delta"
   ]
  },
  {
   "cell_type": "code",
   "execution_count": null,
   "metadata": {},
   "outputs": [],
   "source": []
  }
 ],
 "metadata": {
  "kernelspec": {
   "display_name": "Python 3",
   "language": "python",
   "name": "python3"
  },
  "language_info": {
   "codemirror_mode": {
    "name": "ipython",
    "version": 3
   },
   "file_extension": ".py",
   "mimetype": "text/x-python",
   "name": "python",
   "nbconvert_exporter": "python",
   "pygments_lexer": "ipython3",
   "version": "3.7.1"
  }
 },
 "nbformat": 4,
 "nbformat_minor": 2
}
