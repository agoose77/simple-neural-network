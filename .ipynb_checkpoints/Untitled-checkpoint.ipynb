{
 "cells": [
  {
   "cell_type": "code",
   "execution_count": 5,
   "metadata": {},
   "outputs": [],
   "source": [
    "import numpy as np\n",
    "import pandas as pd\n",
    "# from bokeh.plotting import figure as bokeh_figure, output_notebook, show\n",
    "# output_notebook()"
   ]
  },
  {
   "cell_type": "code",
   "execution_count": null,
   "metadata": {},
   "outputs": [],
   "source": []
  },
  {
   "cell_type": "code",
   "execution_count": 7,
   "metadata": {},
   "outputs": [],
   "source": [
    "#def figure(*args, **kwargs):\n",
    "#     return bokeh_figure(*args, **kwargs, width=550, height=300)"
   ]
  },
  {
   "cell_type": "markdown",
   "metadata": {},
   "source": [
    "### Define our function"
   ]
  },
  {
   "cell_type": "code",
   "execution_count": 301,
   "metadata": {},
   "outputs": [
    {
     "data": {
      "text/html": [
       "<div>\n",
       "<style scoped>\n",
       "    .dataframe tbody tr th:only-of-type {\n",
       "        vertical-align: middle;\n",
       "    }\n",
       "\n",
       "    .dataframe tbody tr th {\n",
       "        vertical-align: top;\n",
       "    }\n",
       "\n",
       "    .dataframe thead th {\n",
       "        text-align: right;\n",
       "    }\n",
       "</style>\n",
       "<table border=\"1\" class=\"dataframe\">\n",
       "  <thead>\n",
       "    <tr style=\"text-align: right;\">\n",
       "      <th></th>\n",
       "      <th>x1</th>\n",
       "      <th>x2</th>\n",
       "      <th>x3</th>\n",
       "      <th>y</th>\n",
       "    </tr>\n",
       "  </thead>\n",
       "  <tbody>\n",
       "    <tr>\n",
       "      <th>0</th>\n",
       "      <td>0</td>\n",
       "      <td>0</td>\n",
       "      <td>1</td>\n",
       "      <td>0</td>\n",
       "    </tr>\n",
       "    <tr>\n",
       "      <th>1</th>\n",
       "      <td>0</td>\n",
       "      <td>1</td>\n",
       "      <td>1</td>\n",
       "      <td>1</td>\n",
       "    </tr>\n",
       "    <tr>\n",
       "      <th>2</th>\n",
       "      <td>1</td>\n",
       "      <td>0</td>\n",
       "      <td>1</td>\n",
       "      <td>1</td>\n",
       "    </tr>\n",
       "    <tr>\n",
       "      <th>3</th>\n",
       "      <td>1</td>\n",
       "      <td>1</td>\n",
       "      <td>1</td>\n",
       "      <td>0</td>\n",
       "    </tr>\n",
       "  </tbody>\n",
       "</table>\n",
       "</div>"
      ],
      "text/plain": [
       "   x1  x2  x3  y\n",
       "0   0   0   1  0\n",
       "1   0   1   1  1\n",
       "2   1   0   1  1\n",
       "3   1   1   1  0"
      ]
     },
     "execution_count": 301,
     "metadata": {},
     "output_type": "execute_result"
    }
   ],
   "source": [
    "model = pd.DataFrame({'x1': [0, 0, 1, 1], 'x2': [0, 1, 0, 1], 'x3': [1, 1, 1, 1], 'y': [0, 1, 1, 0]})\n",
    "model"
   ]
  },
  {
   "cell_type": "markdown",
   "metadata": {},
   "source": [
    "### Define our unbiased feedforward neural network\n",
    "Each layer consists of a set of weights, a set of biases, and an activation function:\n",
    "\\begin{align}\n",
    "\\vec{y^{(l)}} &= \\operatorname A(\\vec{z^{(l)}})\\\\\n",
    "\\vec{z^{(l)}} &= \\hat{w}^{(l)}\\times \\vec{y^{(l-1)}}+\\vec{b^{(l)}}\n",
    "\\end{align}\n",
    "\n",
    "In the unbiased case, $b^{(l)}=0$"
   ]
  },
  {
   "cell_type": "markdown",
   "metadata": {},
   "source": [
    "### Define the activation function"
   ]
  },
  {
   "cell_type": "code",
   "execution_count": 302,
   "metadata": {},
   "outputs": [],
   "source": [
    "from scipy.special import expit\n",
    "\n",
    "def expit_derivative(y):\n",
    "    \"\"\"y = σ(x), y' = (1 - y) * y\"\"\"\n",
    "    return (1 - y) * y "
   ]
  },
  {
   "cell_type": "code",
   "execution_count": 595,
   "metadata": {},
   "outputs": [],
   "source": [
    "x = model.values.T[:-1]\n",
    "y = model.values.T[-1].reshape((1,-1))"
   ]
  },
  {
   "cell_type": "code",
   "execution_count": 596,
   "metadata": {},
   "outputs": [
    {
     "data": {
      "text/plain": [
       "array([[0, 0, 1, 1],\n",
       "       [0, 1, 0, 1],\n",
       "       [1, 1, 1, 1]])"
      ]
     },
     "execution_count": 596,
     "metadata": {},
     "output_type": "execute_result"
    }
   ],
   "source": [
    "x"
   ]
  },
  {
   "cell_type": "code",
   "execution_count": 597,
   "metadata": {},
   "outputs": [
    {
     "data": {
      "text/plain": [
       "array([[0, 1, 1, 0]])"
      ]
     },
     "execution_count": 597,
     "metadata": {},
     "output_type": "execute_result"
    }
   ],
   "source": [
    "y"
   ]
  },
  {
   "cell_type": "code",
   "execution_count": 598,
   "metadata": {},
   "outputs": [],
   "source": [
    "n_x = x.shape[0]\n",
    "hidden_layer_size = 4\n",
    "w_1 = np.random.rand(hidden_layer_size, n_x, )\n",
    "b_1 = np.zeros(hidden_layer_size)\n",
    "w_2 = np.random.rand(1, hidden_layer_size)\n",
    "b_2 = np.zeros(1)\n",
    "output = np.zeros_like(y)"
   ]
  },
  {
   "cell_type": "code",
   "execution_count": 599,
   "metadata": {},
   "outputs": [
    {
     "data": {
      "text/plain": [
       "array([[0, 0, 1, 1],\n",
       "       [0, 1, 0, 1],\n",
       "       [1, 1, 1, 1]])"
      ]
     },
     "execution_count": 599,
     "metadata": {},
     "output_type": "execute_result"
    }
   ],
   "source": [
    "# Each row is a set of values for each input neuron xi\n",
    "# Each column is a set of data for {x1, x2, x3}\n",
    "x"
   ]
  },
  {
   "cell_type": "code",
   "execution_count": 600,
   "metadata": {},
   "outputs": [],
   "source": [
    "def feed_forward_layer(activate, inputs, layer_weights, layer_biases):\n",
    "    return activate(layer_weights@inputs + layer_biases)"
   ]
  },
  {
   "cell_type": "code",
   "execution_count": 601,
   "metadata": {},
   "outputs": [],
   "source": [
    "def feed_forward(inputs, activators, weights, biases):\n",
    "    layers = [inputs]\n",
    "    for activator, layer_weights, layer_biases in zip(activators, weights, biases):\n",
    "        inputs = feed_forward_layer(activator, inputs, layer_weights, layer_biases)\n",
    "        layers.append(inputs)\n",
    "    return layers"
   ]
  },
  {
   "cell_type": "code",
   "execution_count": 780,
   "metadata": {},
   "outputs": [],
   "source": [
    "# @numba.jit(nopython=True)\n",
    "def dz_dw(a, w, l, m, i, p, q, deriv):\n",
    "#     assert len(a) == len(w), (len(a), len(w))\n",
    "    assert 0 <= l < len(a)\n",
    "    assert l >= m\n",
    "    \n",
    "    if l == m:\n",
    "        return a[m-1][q] if i == p else 0.0\n",
    "    \n",
    "    w_l = w[l-1]\n",
    "    \n",
    "    terms = []\n",
    "    \n",
    "    for k in range(w_l.shape[1]):\n",
    "        w_l_i_k = w_l[i, k]\n",
    "        deriv_a_l_sub_1 = deriv(a[l-1][k])\n",
    "        T = dz_dw(a, w, l-1, m, k, p, q, deriv)\n",
    "        terms.append(w_l_i_k * deriv_a_l_sub_1 *  T)\n",
    "                \n",
    "    return np.sum(terms)\n",
    "\n",
    "\n",
    "# @numba.jit(nopython=True)\n",
    "def dc_dw(a, y, w, l, m, p, q, deriv):\n",
    "#     print(len(a),l)\n",
    "    a_l = a[l]\n",
    "    if l == m:\n",
    "        is_ = [p]\n",
    "    else:\n",
    "        is_ = [*range(len(a_l))]\n",
    "    \n",
    "#     assert 0 <= p < len(a_l)\n",
    "    \n",
    "    terms = []\n",
    "    for i in is_:\n",
    "        dy = (a_l[i] - y[i])\n",
    "        deriv_a_l_i = deriv(a_l[i])\n",
    "        T = dz_dw(a, w, l, m, i, p, q, deriv)\n",
    "        terms.append(dy * deriv_a_l_i * T)\n",
    "    return np.sum(terms)\n",
    "\n",
    "\n",
    "def dc_dw_man_m_2(a, y, w, l, p, q, deriv, m=None):\n",
    "    al = a[l]#.reshape(y.shape)\n",
    "    Y =  deriv(al[p]) * a[l-1][q]\n",
    "    err = (al[p] - y[p])\n",
    "    print(\"\\n\")\n",
    "    print(\"al[p] =\", al[p])\n",
    "    print(\"al[p] - y[p] =\", (al[p] - y[p]))\n",
    "    print(\"deriv(al[p]) =\",deriv(al[p]))\n",
    "    print(\"a[l-1][q] =\", a[l-1][q])\n",
    "    return np.sum(err * Y)\n",
    "\n",
    "def dc_dw_man_m_1(a, y, w, l, p, q, deriv, m=None):\n",
    "    n_l = len(a[l])\n",
    "    print(\"(a[l][i]-y[i])\", np.array([w[l-1][i,p]*(a[l][i]-y[i]) for i in range(n_l)]))\n",
    "    s = np.sum([w[l-1][i,p]*(a[l][i]-y[i])*\n",
    "                deriv(a[l][i]) \n",
    "                for i in range(n_l)])\n",
    "    res= a[l-2][q]*deriv(a[l-1][p])*s\n",
    "    return res.sum()\n",
    "\n",
    "\n",
    "def d_to_mat(mat, f, layers, y, weights, l, m):\n",
    "    dmat = np.empty_like(mat)\n",
    "    for p in range(mat.shape[0]):\n",
    "        for q in range(mat.shape[1]):\n",
    "            dw = f(layers, y, weights, l=l, m=m, p=p, q=q, deriv=expit_derivative)\n",
    "            dmat[p, q] = dw\n",
    "    return dmat"
   ]
  },
  {
   "cell_type": "code",
   "execution_count": 781,
   "metadata": {},
   "outputs": [],
   "source": [
    "w_1=np.array([[-0.16595599,  0.44064899, -0.99977125, -0.39533485],\n",
    "       [-0.70648822, -0.81532281, -0.62747958, -0.30887855],\n",
    "       [-0.20646505,  0.07763347, -0.16161097,  0.370439  ]]).T\n",
    "w_2=np.array([[-0.5910955 ],\n",
    "       [ 0.75623487],\n",
    "       [-0.94522481],\n",
    "       [ 0.34093502]]).T"
   ]
  },
  {
   "cell_type": "code",
   "execution_count": 782,
   "metadata": {},
   "outputs": [],
   "source": [
    "layers = feed_forward(x, [expit]*2, [w_1, w_2], [0, 0])"
   ]
  },
  {
   "cell_type": "code",
   "execution_count": 783,
   "metadata": {},
   "outputs": [
    {
     "name": "stdout",
     "output_type": "stream",
     "text": [
      "(a[l][i]-y[i]) [[-0.81591008  0.88017551  0.78564832 -0.9381577 ]]\n",
      "(a[l][i]-y[i]) [[-0.81591008  0.88017551  0.78564832 -0.9381577 ]]\n",
      "(a[l][i]-y[i]) [[-0.81591008  0.88017551  0.78564832 -0.9381577 ]]\n",
      "(a[l][i]-y[i]) [[-0.25088103  0.27064177  0.24157596 -0.28847048]]\n",
      "(a[l][i]-y[i]) [[-0.25088103  0.27064177  0.24157596 -0.28847048]]\n",
      "(a[l][i]-y[i]) [[-0.25088103  0.27064177  0.24157596 -0.28847048]]\n",
      "(a[l][i]-y[i]) [[-0.65191464  0.70326292  0.62773541 -0.74959087]]\n",
      "(a[l][i]-y[i]) [[-0.65191464  0.70326292  0.62773541 -0.74959087]]\n",
      "(a[l][i]-y[i]) [[-0.65191464  0.70326292  0.62773541 -0.74959087]]\n",
      "(a[l][i]-y[i]) [[-0.8033454   0.86662118  0.77354966 -0.92371047]]\n",
      "(a[l][i]-y[i]) [[-0.8033454   0.86662118  0.77354966 -0.92371047]]\n",
      "(a[l][i]-y[i]) [[-0.8033454   0.86662118  0.77354966 -0.92371047]]\n"
     ]
    },
    {
     "data": {
      "text/plain": [
       "array([[-0.0091517 , -0.00836254, -0.01874642],\n",
       "       [-0.0031251 , -0.00302658, -0.00618472],\n",
       "       [-0.00516383, -0.00572758, -0.01302418],\n",
       "       [-0.01031271, -0.01030857, -0.0205889 ]])"
      ]
     },
     "execution_count": 783,
     "metadata": {},
     "output_type": "execute_result"
    }
   ],
   "source": [
    "d_to_mat(w_1, dc_dw_man_m_1, layers, y, weights, l=2, m=1)"
   ]
  },
  {
   "cell_type": "code",
   "execution_count": 672,
   "metadata": {},
   "outputs": [
    {
     "data": {
      "text/plain": [
       "array([[0.00451385, 0.00669325, 0.00676932, 0.00455133]])"
      ]
     },
     "execution_count": 672,
     "metadata": {},
     "output_type": "execute_result"
    }
   ],
   "source": [
    "m = 2\n",
    "wm = weights[m-1]\n",
    "d_w_2_ = np.empty_like(w_2)\n",
    "for p in range(wm.shape[0]):\n",
    "    for q in range(wm.shape[1]):\n",
    "        dw = dc_dw(layers, y, weights, l=2, m=m, p=p, q=q, deriv=expit_derivative)\n",
    "        d_w_2_[p, q] = dw\n",
    "d_w_2_"
   ]
  },
  {
   "cell_type": "code",
   "execution_count": 625,
   "metadata": {},
   "outputs": [
    {
     "data": {
      "text/plain": [
       "array([[-0.00451385, -0.00669325, -0.00676932, -0.00455133]])"
      ]
     },
     "execution_count": 625,
     "metadata": {},
     "output_type": "execute_result"
    }
   ],
   "source": [
    "d_w_2"
   ]
  },
  {
   "cell_type": "code",
   "execution_count": 673,
   "metadata": {},
   "outputs": [
    {
     "name": "stdout",
     "output_type": "stream",
     "text": [
      "[[ 0.00314085  0.00287001  0.00643375]\n",
      " [-0.00446255 -0.00432187 -0.00883159]\n",
      " [ 0.00354688  0.00393411  0.00894593]\n",
      " [-0.00207335 -0.00207252 -0.00413936]]\n",
      "[[-0.00451385 -0.00669325 -0.00676932 -0.00455133]]\n"
     ]
    },
    {
     "data": {
      "text/plain": [
       "array([[0.47372957, 0.48895696, 0.54384086, 0.54470837]])"
      ]
     },
     "execution_count": 673,
     "metadata": {},
     "output_type": "execute_result"
    }
   ],
   "source": [
    "def train(n, inputs, outputs, weights, biases, activators, activator_derivatives, z_derivative, rate):\n",
    "    for i in range(n):\n",
    "        *hidden_layers, result = layers = feed_forward(inputs, activators, weights, biases)\n",
    "#         print()\n",
    "        for m in range(1, 3):\n",
    "            wm = weights[m-1]\n",
    "            dwm = np.empty_like(wm)\n",
    "            for p in range(wm.shape[0]):\n",
    "                for q in range(wm.shape[1]):\n",
    "#                     print(wm,p,q,m,len(layers)-1)\n",
    "                    dw = dc_dw(layers, outputs, weights, l=2, m=m, p=p, q=q, deriv=expit_derivative)\n",
    "                    dwm[p, q] = -rate * dw\n",
    "            print(dwm)\n",
    "            wm += dwm\n",
    "        \n",
    "#         print(result, outputs)\n",
    "    return result\n",
    "        \n",
    "# print(y)\n",
    "train(1, x, y, [w_1, w_2], [0, 0], [expit]*2, [expit_derivative]*2, lambda x: x, 1)\n",
    "# train(10_000, x_2, y_2, [w_1, w_2], [0, 0], [expit]*2, [expit_derivative]*2, z_derivative, 0.1)\n",
    "# train(10_000, x_3, y_3, [w_1, w_2], [0, 0], [expit]*2, [expit_derivative]*2, z_derivative, 0.1)\n",
    "# train(10_000, x_4, y_4, [w_1, w_2], [0, 0], [expit]*2, [expit_derivative]*2, z_derivative, 0.1)"
   ]
  },
  {
   "cell_type": "code",
   "execution_count": 648,
   "metadata": {},
   "outputs": [
    {
     "ename": "NameError",
     "evalue": "name 'x_2' is not defined",
     "output_type": "error",
     "traceback": [
      "\u001b[0;31m---------------------------------------------------------------------------\u001b[0m",
      "\u001b[0;31mNameError\u001b[0m                                 Traceback (most recent call last)",
      "\u001b[0;32m<ipython-input-648-f694fa7a55e1>\u001b[0m in \u001b[0;36m<module>\u001b[0;34m\u001b[0m\n\u001b[0;32m----> 1\u001b[0;31m \u001b[0;34m*\u001b[0m\u001b[0m_\u001b[0m\u001b[0;34m,\u001b[0m \u001b[0mresult\u001b[0m \u001b[0;34m=\u001b[0m \u001b[0mfeed_forward\u001b[0m\u001b[0;34m(\u001b[0m\u001b[0mx_2\u001b[0m\u001b[0;34m,\u001b[0m \u001b[0;34m[\u001b[0m\u001b[0mexpit\u001b[0m\u001b[0;34m]\u001b[0m\u001b[0;34m*\u001b[0m\u001b[0;36m2\u001b[0m\u001b[0;34m,\u001b[0m \u001b[0;34m[\u001b[0m\u001b[0mw_1\u001b[0m\u001b[0;34m,\u001b[0m \u001b[0mw_2\u001b[0m\u001b[0;34m]\u001b[0m\u001b[0;34m,\u001b[0m \u001b[0;34m[\u001b[0m\u001b[0;36m0\u001b[0m\u001b[0;34m,\u001b[0m \u001b[0;36m0\u001b[0m\u001b[0;34m]\u001b[0m\u001b[0;34m)\u001b[0m\u001b[0;34m\u001b[0m\u001b[0;34m\u001b[0m\u001b[0m\n\u001b[0m\u001b[1;32m      2\u001b[0m \u001b[0mresult\u001b[0m\u001b[0;34m\u001b[0m\u001b[0;34m\u001b[0m\u001b[0m\n",
      "\u001b[0;31mNameError\u001b[0m: name 'x_2' is not defined"
     ]
    }
   ],
   "source": [
    "*_, result = feed_forward(x_2, [expit]*2, [w_1, w_2], [0, 0])\n",
    "result"
   ]
  },
  {
   "cell_type": "code",
   "execution_count": 421,
   "metadata": {},
   "outputs": [
    {
     "data": {
      "text/plain": [
       "array([[array([[-0.65785401],\n",
       "       [-0.51707436],\n",
       "       [-0.57572272]]),\n",
       "        array([[-0.74112955]])]], dtype=object)"
      ]
     },
     "execution_count": 421,
     "metadata": {},
     "output_type": "execute_result"
    }
   ],
   "source": [
    "dy = y - outputs\n",
    "dy"
   ]
  },
  {
   "cell_type": "code",
   "execution_count": 158,
   "metadata": {},
   "outputs": [
    {
     "data": {
      "text/plain": [
       "array([[0.65785401],\n",
       "       [0.51707436],\n",
       "       [0.57572272]])"
      ]
     },
     "execution_count": 158,
     "metadata": {},
     "output_type": "execute_result"
    }
   ],
   "source": [
    "y_1 = expit(w_1@x_0)\n",
    "y_1"
   ]
  },
  {
   "cell_type": "code",
   "execution_count": 161,
   "metadata": {},
   "outputs": [
    {
     "data": {
      "text/plain": [
       "array([[-0.18708125, -0.14704618, -0.16372466]])"
      ]
     },
     "execution_count": 161,
     "metadata": {},
     "output_type": "execute_result"
    }
   ],
   "source": [
    "de_dy = 2 * dy\n",
    "dy_dz = deriv_expit(outputs)\n",
    "de_dz = de_dy.T @ dy_dz\n",
    "de_dw_2 = de_dz @ y_1.T # column [p] X row [q] vector gives matrix [p X q]\n",
    "de_dw_2"
   ]
  },
  {
   "cell_type": "code",
   "execution_count": 162,
   "metadata": {},
   "outputs": [
    {
     "data": {
      "text/plain": [
       "array([[0.87638824, 0.90957082, 0.0086785 ]])"
      ]
     },
     "execution_count": 162,
     "metadata": {},
     "output_type": "execute_result"
    }
   ],
   "source": [
    "w_2"
   ]
  },
  {
   "cell_type": "code",
   "execution_count": 151,
   "metadata": {},
   "outputs": [],
   "source": [
    "def back_propogate_2_layer(inv_activate, y, outputs, w_1, w_2, rate):\n",
    "    d_y = y - outputs\n",
    "    d_w_2 = 2 * dy * inv_activate(outputs)\n",
    "    \n",
    "    w_1_ = w_1 - rate * d_w_1\n",
    "    w_2_ = w_2 - rate * d_w_2"
   ]
  },
  {
   "cell_type": "markdown",
   "metadata": {},
   "source": [
    "### Then define a loss function\n",
    "$$\n",
    "\\epsilon (y, \\hat{y}) = \\sum_{i=1}^n\\left(y-\\hat{y}\\right)^2\\,.\n",
    "$$\n",
    "The derivative of the loss function with respect to the first layer weights $\\hat{w}^{(2)}$  is \n",
    "$$\n",
    "\\frac{\\partial \\epsilon}{\\partial \\hat{w}^{(2)}} = \\frac{\\partial \\epsilon}{\\partial\\hat{y}}\\frac{\\partial\\hat{y}}{\\partial z}\\frac{\\partial z}{\\partial \\hat{w}^{(2)}}\n",
    "$$"
   ]
  },
  {
   "cell_type": "code",
   "execution_count": null,
   "metadata": {},
   "outputs": [],
   "source": [
    "d_weights1 = np.dot(\n",
    "    self.input.T,\n",
    "    #\n",
    "    np.dot(\n",
    "        2\n",
    "        * (self.y - self.output)\n",
    "        * sigmoid_derivative(self.output),\n",
    "        #\n",
    "        self.weights2.T,\n",
    "    )\n",
    "    * sigmoid_derivative(self.layer1),\n",
    ")"
   ]
  },
  {
   "cell_type": "code",
   "execution_count": 626,
   "metadata": {},
   "outputs": [
    {
     "data": {
      "text/plain": [
       "0.004513854642904304"
      ]
     },
     "execution_count": 626,
     "metadata": {},
     "output_type": "execute_result"
    }
   ],
   "source": [
    "dc_dw(layers, y, [w_1, w_2], l=2, m=2, p=0, q=0, deriv=expit_derivative)"
   ]
  },
  {
   "cell_type": "code",
   "execution_count": 627,
   "metadata": {},
   "outputs": [
    {
     "name": "stdout",
     "output_type": "stream",
     "text": [
      "\n",
      "\n",
      "al[p] = [0.47372957 0.48895696 0.54384086 0.54470837]\n",
      "al[p] - y[p] = [ 0.47372957 -0.51104304 -0.45615914  0.54470837]\n",
      "deriv(al[p]) = [0.24930986 0.24987805 0.24807798 0.24800116]\n",
      "a[l-1][q] = [0.44856632 0.28639589 0.40795614 0.25371248]\n"
     ]
    },
    {
     "data": {
      "text/plain": [
       "0.004513854642904304"
      ]
     },
     "execution_count": 627,
     "metadata": {},
     "output_type": "execute_result"
    }
   ],
   "source": [
    "dc_dw_man_m_2(layers, y, [w_1, w_2], l=2, p=0, q=0, deriv=expit_derivative)"
   ]
  },
  {
   "cell_type": "markdown",
   "metadata": {},
   "source": [
    "<hr>"
   ]
  },
  {
   "cell_type": "code",
   "execution_count": 628,
   "metadata": {},
   "outputs": [
    {
     "data": {
      "text/plain": [
       "-0.003140854770533802"
      ]
     },
     "execution_count": 628,
     "metadata": {},
     "output_type": "execute_result"
    }
   ],
   "source": [
    "dc_dw(layers, y, [w_1, w_2], l=2, m=1, p=0, q=0, deriv=expit_derivative)"
   ]
  },
  {
   "cell_type": "code",
   "execution_count": 629,
   "metadata": {},
   "outputs": [
    {
     "data": {
      "text/plain": [
       "array([-0.        , -0.        , -0.00176063, -0.00138022])"
      ]
     },
     "execution_count": 629,
     "metadata": {},
     "output_type": "execute_result"
    }
   ],
   "source": [
    "dc_dw_man_m_1(layers, y, [w_1, w_2], l=2, p=0, q=0, deriv=expit_derivative)"
   ]
  }
 ],
 "metadata": {
  "kernelspec": {
   "display_name": "Python 3",
   "language": "python",
   "name": "python3"
  },
  "language_info": {
   "codemirror_mode": {
    "name": "ipython",
    "version": 3
   },
   "file_extension": ".py",
   "mimetype": "text/x-python",
   "name": "python",
   "nbconvert_exporter": "python",
   "pygments_lexer": "ipython3",
   "version": "3.7.1"
  }
 },
 "nbformat": 4,
 "nbformat_minor": 2
}
